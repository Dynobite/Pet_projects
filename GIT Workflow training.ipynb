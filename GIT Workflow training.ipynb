{
 "cells": [
  {
   "cell_type": "code",
   "execution_count": null,
   "id": "9779f50f-e40e-4f72-9ca9-ead9bcc552d3",
   "metadata": {},
   "outputs": [],
   "source": [
    "\"\"\" Here I'm training my GIT skills\"\"\""
   ]
  },
  {
   "cell_type": "code",
   "execution_count": 1,
   "id": "d330d9e6-b2fc-4a34-8a78-7300ed82b0e9",
   "metadata": {},
   "outputs": [
    {
     "name": "stdout",
     "output_type": "stream",
     "text": [
      "Hellow the Freaking World!!!\n"
     ]
    }
   ],
   "source": [
    "print('Hellow the Freaking World!!!')"
   ]
  },
  {
   "cell_type": "code",
   "execution_count": 1,
   "id": "98976f1f-8b0d-44d4-a7bc-69632b419ba4",
   "metadata": {},
   "outputs": [
    {
     "name": "stdout",
     "output_type": "stream",
     "text": [
      "NOW I have set my github, and this is my first push to github\n"
     ]
    }
   ],
   "source": [
    "print(\"\"\"NOW I have set my github, and this is my first push to github\"\"\")"
   ]
  },
  {
   "cell_type": "code",
   "execution_count": 3,
   "id": "d3b08664-6ace-4ead-9875-790e486cda3d",
   "metadata": {},
   "outputs": [],
   "source": [
    "#The first attempt FAILED\n",
    "\n",
    "#THE SECOND ONE"
   ]
  },
  {
   "cell_type": "code",
   "execution_count": 7,
   "id": "d863420d-510d-4305-849a-93fc92f72ea2",
   "metadata": {},
   "outputs": [
    {
     "name": "stdout",
     "output_type": "stream",
     "text": [
      "Its my second attemp!!!\n"
     ]
    }
   ],
   "source": [
    "print('Its my second attemp!!!')"
   ]
  },
  {
   "cell_type": "code",
   "execution_count": null,
   "id": "b25d6c21-a7a4-4d61-a43e-7c8d426912cf",
   "metadata": {},
   "outputs": [],
   "source": []
  }
 ],
 "metadata": {
  "kernelspec": {
   "display_name": "Python 3 (ipykernel)",
   "language": "python",
   "name": "python3"
  },
  "language_info": {
   "codemirror_mode": {
    "name": "ipython",
    "version": 3
   },
   "file_extension": ".py",
   "mimetype": "text/x-python",
   "name": "python",
   "nbconvert_exporter": "python",
   "pygments_lexer": "ipython3",
   "version": "3.12.4"
  }
 },
 "nbformat": 4,
 "nbformat_minor": 5
}
