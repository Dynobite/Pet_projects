{
 "cells": [
  {
   "cell_type": "code",
   "execution_count": null,
   "id": "dffe2d5d-fc59-4932-9509-aae09a303737",
   "metadata": {},
   "outputs": [],
   "source": [
    "\"\"\" Here I'm training my GIT skills\"\"\""
   ]
  },
  {
   "cell_type": "code",
   "execution_count": 1,
   "id": "d330d9e6-b2fc-4a34-8a78-7300ed82b0e9",
   "metadata": {},
   "outputs": [
    {
     "name": "stdout",
     "output_type": "stream",
     "text": [
      "Hellow the Freaking World!!!\n"
     ]
    }
   ],
   "source": [
    "print('Hellow the Freaking World!!!')"
   ]
  },
  {
   "cell_type": "code",
   "execution_count": null,
   "id": "98976f1f-8b0d-44d4-a7bc-69632b419ba4",
   "metadata": {},
   "outputs": [],
   "source": []
  }
 ],
 "metadata": {
  "kernelspec": {
   "display_name": "Python 3 (ipykernel)",
   "language": "python",
   "name": "python3"
  },
  "language_info": {
   "codemirror_mode": {
    "name": "ipython",
    "version": 3
   },
   "file_extension": ".py",
   "mimetype": "text/x-python",
   "name": "python",
   "nbconvert_exporter": "python",
   "pygments_lexer": "ipython3",
   "version": "3.12.4"
  }
 },
 "nbformat": 4,
 "nbformat_minor": 5
}
